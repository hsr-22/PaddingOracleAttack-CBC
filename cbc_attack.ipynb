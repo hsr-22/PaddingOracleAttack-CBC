{
 "cells": [
  {
   "cell_type": "markdown",
   "metadata": {},
   "source": [
    "# CS409 M: Chalk and Talk\n",
    "---\n",
    "## Harsh S Roniyar and Swarup Patil\n",
    "\n",
    "---"
   ]
  },
  {
   "cell_type": "markdown",
   "metadata": {},
   "source": [
    "## <u> Padding Oracle Attack on AES-CBC Mode </u>"
   ]
  },
  {
   "cell_type": "markdown",
   "metadata": {},
   "source": [
    "### CBC Mode Encryption and Decryption"
   ]
  },
  {
   "cell_type": "markdown",
   "metadata": {},
   "source": [
    "![image.png](./images/cbc_enc_dec.svg)"
   ]
  },
  {
   "cell_type": "markdown",
   "metadata": {},
   "source": [
    "### Padding Scheme - PKCS #7"
   ]
  },
  {
   "cell_type": "markdown",
   "metadata": {},
   "source": [
    "<!-- ![padding](pkcs7_pad.svg) -->\n",
    "<img src=\"./images/pkcs7_pad.svg\" alt=\"drawing\" width=\"800\"/>"
   ]
  },
  {
   "cell_type": "markdown",
   "metadata": {},
   "source": [
    "### The Oracle"
   ]
  },
  {
   "cell_type": "markdown",
   "metadata": {},
   "source": [
    "![oracle](./images/oracle.svg)"
   ]
  },
  {
   "cell_type": "markdown",
   "metadata": {},
   "source": [
    "### Importing the Oracle"
   ]
  },
  {
   "cell_type": "code",
   "execution_count": 1,
   "metadata": {},
   "outputs": [],
   "source": [
    "from oracle import encrypt, is_padding_ok, BLOCK_SIZE, _decrypt"
   ]
  },
  {
   "cell_type": "markdown",
   "metadata": {},
   "source": [
    "### The Attack"
   ]
  },
  {
   "cell_type": "code",
   "execution_count": 2,
   "metadata": {},
   "outputs": [],
   "source": [
    "def attack(ciphertext):\n",
    "    guessed_clear = b\"\"\n",
    "\n",
    "    split_string = lambda x, n: [x[i : i + n] for i in range(0, len(x), n)]\n",
    "    blocks = split_string(ciphertext, BLOCK_SIZE)\n",
    "\n",
    "    for block_n in range(len(blocks) - 1, 0, -1):  # build pair of blocks starting from end of message\n",
    "        spliced_ciphertext = blocks[block_n - 1] + blocks[block_n]\n",
    "\n",
    "        decoded_bytes = b\"?\" * BLOCK_SIZE  # output of block cipher decoding values\n",
    "\n",
    "        ##GET VALUE OF SECRET BYTE byte\n",
    "        for byte in range(BLOCK_SIZE - 1, -1, -1):\n",
    "            new_pad_len = BLOCK_SIZE - byte\n",
    "\n",
    "            # Build hacked ciphertext tail with values to obtain desired padding\n",
    "            hacked_ciphertext_tail = b\"\"\n",
    "            for padder_index in range(1, new_pad_len):\n",
    "                hacked_ciphertext_tail += bytearray.fromhex(\n",
    "                    \"{:02x}\".format(new_pad_len ^ decoded_bytes[byte + padder_index])\n",
    "                )\n",
    "\n",
    "            for i in range(0, 256):\n",
    "                attack_str = bytearray.fromhex(\n",
    "                    \"{:02x}\".format((i ^ spliced_ciphertext[byte]))\n",
    "                )\n",
    "                hacked_ciphertext = (\n",
    "                    spliced_ciphertext[:byte]\n",
    "                    + attack_str\n",
    "                    + hacked_ciphertext_tail\n",
    "                    + spliced_ciphertext[byte + 1 + new_pad_len - 1 :]\n",
    "                )\n",
    "                # print(test_correctness)\n",
    "                \n",
    "                # print(\"Hacked CipherText:\", hacked_ciphertext[:BLOCK_SIZE].hex())\n",
    "                if is_padding_ok(hacked_ciphertext):\n",
    "\n",
    "                    test_correctness = (\n",
    "                        hacked_ciphertext[: byte - 1]\n",
    "                        + bytearray.fromhex(\n",
    "                            \"{:02x}\".format((1 ^ hacked_ciphertext[byte - 1]))\n",
    "                        )\n",
    "                        + hacked_ciphertext[byte:]\n",
    "                    )\n",
    "                    \n",
    "                    # print(\"Test Correctness\", i, \"+ byte:\" , byte, \"+\", test_correctness[:BLOCK_SIZE].hex())\n",
    "                    if not is_padding_ok(test_correctness):\n",
    "                        continue\n",
    "\n",
    "                    decoded_bytes = (\n",
    "                        decoded_bytes[:byte]\n",
    "                        + bytearray.fromhex(\n",
    "                            \"{:02x}\".format(hacked_ciphertext[byte] ^ new_pad_len)\n",
    "                        )\n",
    "                        + decoded_bytes[byte + 1 :]\n",
    "                    )\n",
    "                    guessed_clear = (\n",
    "                        bytearray.fromhex(\"{:02x}\".format(i ^ new_pad_len))\n",
    "                        + guessed_clear\n",
    "                    )\n",
    "\n",
    "                    # print(guessed_clear)\n",
    "                    break\n",
    "\n",
    "    return guessed_clear\n",
    "    # return guessed_clear[:-guessed_clear[-1]] #remove padding!"
   ]
  },
  {
   "cell_type": "markdown",
   "metadata": {},
   "source": [
    "### Performing the Attack"
   ]
  },
  {
   "cell_type": "code",
   "execution_count": 3,
   "metadata": {},
   "outputs": [],
   "source": [
    "def test_the_attack():\n",
    "    messages = (\n",
    "        b\"Attack at dawn\",\n",
    "        b\"\",\n",
    "        b\"Giovanni\",\n",
    "        b\"In symmetric cryptography, the padding oracle attack can be applied to the CBC mode of operation,\"\n",
    "        + b'where the \"oracle\" (usually a server) leaks data about whether the padding of an encrypted '\n",
    "        + b\"message is correct or not. Such data can allow attackers to decrypt (and sometimes encrypt) \"\n",
    "        + b\"messages through the oracle using the oracle's key, without knowing the encryption key\",\n",
    "        b\"I am a happy fellow dancing under the sun\",\n",
    "    )\n",
    "    for msg in messages:\n",
    "        print(\"-\" * 128)\n",
    "        print(\"Testing :\", msg, \"OF LENGTH\", len(msg))\n",
    "        print(\"The encrypted message is :\", encrypt(msg))\n",
    "        cracked_ct = attack(encrypt(msg))\n",
    "        print(\"The decrypted message (with padding) is :\", cracked_ct)\n",
    "        print(\"-\" * 128)\n",
    "        cracked_nopad = cracked_ct[: -cracked_ct[-1]]\n",
    "        if cracked_nopad == msg:\n",
    "            print(\"Assertion passed!\")\n",
    "        else:\n",
    "            print(\"Assertion failed!\")\n",
    "        print(\"-\" * 128)"
   ]
  },
  {
   "cell_type": "code",
   "execution_count": 4,
   "metadata": {},
   "outputs": [
    {
     "name": "stdout",
     "output_type": "stream",
     "text": [
      "--------------------------------------------------------------------------------------------------------------------------------\n",
      "Testing : b'Attack at dawn' OF LENGTH 14\n",
      "The encrypted message is : b\"Xi\\x95RA\\xb3\\x97v,\\xb9\\x91\\xe3;\\xfa'\\xd5n\\xfcLT@\\xb2\\xa8\\xf2\\xda}\\xceqM\\xfff\\xda\"\n",
      "The decrypted message (with padding) is : bytearray(b'Attack at dawn\\x02\\x02')\n",
      "--------------------------------------------------------------------------------------------------------------------------------\n",
      "Assertion passed!\n",
      "--------------------------------------------------------------------------------------------------------------------------------\n",
      "--------------------------------------------------------------------------------------------------------------------------------\n",
      "Testing : b'' OF LENGTH 0\n",
      "The encrypted message is : b'\\xcd\\xca\\xbdIB\\xe9\\xde\\xfd\\xda\\xb7#A-X\\xe9!\\x9c\\xa6\\x98f\\xab\\xb1\\x07\\xbe\\n\\x9928\\x8c\\xdc*\\xe7'\n",
      "The decrypted message (with padding) is : bytearray(b'\\x10\\x10\\x10\\x10\\x10\\x10\\x10\\x10\\x10\\x10\\x10\\x10\\x10\\x10\\x10\\x10')\n",
      "--------------------------------------------------------------------------------------------------------------------------------\n",
      "Assertion passed!\n",
      "--------------------------------------------------------------------------------------------------------------------------------\n",
      "--------------------------------------------------------------------------------------------------------------------------------\n",
      "Testing : b'Giovanni' OF LENGTH 8\n",
      "The encrypted message is : b'\\x9e\\x8d\\x0f\\x91\\x0c{&\\xbb\\x94\\xf4/\\xbf\\xb7\\x16z$_\\xbeE\\x1086\\xb5\\xfcC\\n^\\xeb\\xe4r\\xe5\\x93'\n",
      "The decrypted message (with padding) is : bytearray(b'Giovanni\\x08\\x08\\x08\\x08\\x08\\x08\\x08\\x08')\n",
      "--------------------------------------------------------------------------------------------------------------------------------\n",
      "Assertion passed!\n",
      "--------------------------------------------------------------------------------------------------------------------------------\n",
      "--------------------------------------------------------------------------------------------------------------------------------\n",
      "Testing : b'In symmetric cryptography, the padding oracle attack can be applied to the CBC mode of operation,where the \"oracle\" (usually a server) leaks data about whether the padding of an encrypted message is correct or not. Such data can allow attackers to decrypt (and sometimes encrypt) messages through the oracle using the oracle\\'s key, without knowing the encryption key' OF LENGTH 366\n",
      "The encrypted message is : b'\\xc6L\\xed\\x85R.L\\xc1\\xf2\\x98j\\x01\\x1e\\xd1\\x814\\xf6\\'\\xe1\\xd3Qv\\xd8S\\xf6\\xe8\\x9bd\\xfbO\\xaf\\xa4$r\\x82\\xd0\\xe7\\x07\\x04\\xad!Y\\xb4\\x0b\\xe8j\\x84\\xd8\\x8a\\x97\\xa3<\\xe6\\xa6H\\x13/!c\\xb2\\x9e~#\\xbe\\x10\\x1a\\xf4 \\x96\\xfa\\x95\\x89A\\x14\\xf3\\x17\\xd5\\x8am3\\x0c\\x89\\xf5\\xd6\\\\\\x12\\xb0\\xb3\\tf/\\xd8\\x01\\x90\\xa1\\xcf\\xac\\x17\\xban\\xf6\\xae$\\x16\\xc3\\x81\\xdf}\\xdd\\xe0B*\\t\\xeeR\\x82\\x7fof \\x11\\xd7I\"\\xdd\\xc0j\\xe0\\x02\\xcb\\x81-\\x11\\xcd\\x07\\x9b\\x18\\xca{\\xf2%\\x16\\xc5\\x99\\xfa\\x92\\x0b\\x95\\xa4\\xba^\\x7f\\xf4\\x9cl\\'ahi\\x9d$zh\\xd3[\\xc2c\\xa7z\\xaf.[\\xc8o,\\xf4\\xa4\\xc2`u\\xdb\\x0b\\xc9\\x1c@_\\x87Q\\xa6]\\x0b\\xfd\\xde\\xc4byc!\\xec\\xa2\\x15\\xc6:,GS\\xf3\\x01\\x15Z\\xc5t:\\x1b\\x8bun\\xa6\\xdf$\\xe7\\x8e\\xdeL\\xdd\\xce\\xd6\\x97\\xb6A\\x12w#\\xf1\\xfcw\\x91)lP\\xf8/\\xf2\\xc8dIv\\xc3\\x17\\x8d\\xa6p9\\xe3~\\xfb\\xb6\\x8ffO\\xf2\\xbe\\xce\\x1cW\\xc0\\x0e\\x02\\x1b\\xc1\\xd0-]8&\\x1e\\x89_\\xac\\xe90s\\x98\\xbc\\x19s\\xe9\\xcd\\xde\\xffa\\xd9Q\\x97\\xf6\\x1b P\\xf6\\x91\\x90NY\\x86\\xc5\\xde\\xafq\\xaa\\xfb\\xc4\\xfc\\xa0\\x12r\\xec\\x913\\xb0\\x1cb\\xd4\\x84\\xf7\\x96u\\xf5\\xb7Dj\\x9a\\x9d,\\xc4\\xc9\\xb2D\\x1f\\x90\\x05\\xb4\\x80\\x07\\xa9\\xc6\\xb4\\xc5}\\xea\\xc4\\xff#&\\xd8\\xfd-2Y\\x0ed\\x9dq\\xc3\\xeeAS\\xa2\\xb10{j\\x08\\xb3\\xf4Dr\\xbb\\xc47\\x9f\\xd2\\xa6\\xcf\\xc0'\n",
      "The decrypted message (with padding) is : bytearray(b'In symmetric cryptography, the padding oracle attack can be applied to the CBC mode of operation,where the \"oracle\" (usually a server) leaks data about whether the padding of an encrypted message is correct or not. Such data can allow attackers to decrypt (and sometimes encrypt) messages through the oracle using the oracle\\'s key, without knowing the encryption key\\x02\\x02')\n",
      "--------------------------------------------------------------------------------------------------------------------------------\n",
      "Assertion passed!\n",
      "--------------------------------------------------------------------------------------------------------------------------------\n",
      "--------------------------------------------------------------------------------------------------------------------------------\n",
      "Testing : b'I am a happy fellow dancing under the sun' OF LENGTH 41\n",
      "The encrypted message is : b'\\xbb\\xdcX\\x9e%\\r\\xda\\x9c\\x97\\xcaO\\xec8\\xa0\\xef\\x13j\\x01N\\xee\\x1d\\x15\\xfc\\x81\\x84c\\x9a2\\xc8\\x9b\\xcc\\xb4\\xbbP\\xd0F/j\\xa7J\\xa1\\xd0\\xa7\\xde\\xd6qjw\\xb3\\xbf\\xd8m\\xa3\\xd3\\x93\\xff2\\xf8_\\xbe\\xe1\\xd4\\x07\\x06'\n",
      "The decrypted message (with padding) is : bytearray(b'I am a happy fellow dancing under the sun\\x07\\x07\\x07\\x07\\x07\\x07\\x07')\n",
      "--------------------------------------------------------------------------------------------------------------------------------\n",
      "Assertion passed!\n",
      "--------------------------------------------------------------------------------------------------------------------------------\n"
     ]
    }
   ],
   "source": [
    "if __name__ == \"__main__\":\n",
    "    test_the_attack()"
   ]
  },
  {
   "cell_type": "code",
   "execution_count": null,
   "metadata": {},
   "outputs": [],
   "source": []
  }
 ],
 "metadata": {
  "kernelspec": {
   "display_name": "Python 3",
   "language": "python",
   "name": "python3"
  },
  "language_info": {
   "codemirror_mode": {
    "name": "ipython",
    "version": 3
   },
   "file_extension": ".py",
   "mimetype": "text/x-python",
   "name": "python",
   "nbconvert_exporter": "python",
   "pygments_lexer": "ipython3",
   "version": "3.12.4"
  }
 },
 "nbformat": 4,
 "nbformat_minor": 2
}
